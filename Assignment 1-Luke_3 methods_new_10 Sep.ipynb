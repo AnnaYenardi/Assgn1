{
 "cells": [
  {
   "cell_type": "markdown",
   "metadata": {
    "id": "1a_O3hT0JDXf"
   },
   "source": [
    "Group Name: AG xx.\n",
    "\n",
    "Student Name (Student ID):\n",
    "\n",
    "1. xxxx xxxxx (xxxxxxx)\n",
    "\n",
    "2. xxxx xxxxx (xxxxxxx)\n",
    "\n",
    "3. xxxx xxxxx (xxxxxxx)"
   ]
  },
  {
   "cell_type": "markdown",
   "metadata": {
    "id": "Ho8XMSP2JDXq"
   },
   "source": [
    "# Question 1\n",
    "\n",
    "Consider the maze shown below. The Maze has 16 rows and 24 columns The objective is to find a shortest path from cell $S$ to cell $G$.\n",
    "\n",
    "![Maze](Maze.jpg)\n",
    "\n",
    "\n",
    "\n",
    "The agent can take four actions in each cell: 'RIGHT', 'DOWN', 'UP', 'LEFT'.  \n",
    "\n",
    "Each cell is represented as $(x,y)$, where $x$ indicates row number and $y$ indicates column number. Action 'UP' takes the agent from cell $(x,y)$ to $(x+1,y)$. Action 'DOWN' takes the agent from cell $(x,y)$ to $(x-1,y)$. Action 'RIGHT' takes the agent from cell $(x,y)$ to $(x,y+1)$. Action 'LEFT' takes the agent from cell $(x,y)$ to $(x,y-1)$. The triplet $(s,a,s')$  indicates that taking action $a$ at state $s$ leads to state $s'$. Actions 'LEFT' or 'RIGHT' cost 10 units for all $(s,a,s')$. Actions 'UP' or 'DOWN' cost 1 unit for all  $(s,a,s')$.  The agent cannot move into cells that are shaded. Assume that the agent knows the boundaries of the maze and has full observability. Consequently, at the bottom (row 0) and top (row 15), the agent will not take actions 'DOWN' and 'UP', respectively; at left (column 0) and right (column 23) columns, the agent will not take 'LEFT' and 'RIGHT' actions, respectively. Similalry, the agent will not take actions that lead to shaded region in the maze."
   ]
  },
  {
   "cell_type": "markdown",
   "metadata": {},
   "source": [
    "## **Q1.a: Class Maze(Problem)** [5 Marks]\n",
    "\n",
    "Write a Maze class to create a model for this problem. You should not use an explicit state space model. The modelling should inherit the abstract class 'Problem' (given below). With the problem formulation, find the shortest path from S to G cell. Propose and implement multiple heuristics (at least two heuristics) for informed search algorithms."
   ]
  },
  {
   "cell_type": "markdown",
   "metadata": {
    "id": "IQJTwtm6JDXs"
   },
   "source": [
    "## **Q1.b: Analysis of the Algorithms** [5 Marks]\n",
    "\n",
    "1. Solve the above Maze problem using the following algorithms\n",
    "\n",
    "    a. Breadth-First Search\n",
    "\n",
    "    b. Depth-First Search with Cycle-Check\n",
    "\n",
    "    c. Iterative-Deepening Search with Cycle-Check\n",
    "\n",
    "    d. Uniform-Cost Search\n",
    "\n",
    "    e. A* Search \n",
    "\n",
    "    f. Greedy Best-first Search\n",
    "\n",
    "2. Identify the number of number of expanded nodes, maximum frontier size, and path-cost for the above algorithms.  Summarize the statistics in the form of a table.\n",
    " \n",
    "3. Compare the performance of informed search algorithms with proposed heuristics. Identify the best performing heuristic and explain.\n",
    " \n",
    "\n",
    "Note 1: You must follow the problem formulation discussed in the class. Abstract classe for Problem amd Node definition is presented below. The search tree generation should follow the template discussed in the class (i.e., Node class, expand methods, etc.). \n",
    "\n",
    "Note 2: The code should be written in a single jupyter notebook file."
   ]
  },
  {
   "cell_type": "code",
   "execution_count": 1,
   "metadata": {},
   "outputs": [],
   "source": [
    "import matplotlib.pyplot as plt\n",
    "import numpy as np\n",
    "import random\n",
    "import heapq\n",
    "import math\n",
    "import sys\n",
    "from collections import defaultdict, deque, Counter\n",
    "from itertools import combinations"
   ]
  },
  {
   "cell_type": "code",
   "execution_count": 2,
   "metadata": {
    "id": "uG30krXtJDXv"
   },
   "outputs": [],
   "source": [
    "class Problem:\n",
    "    \"\"\"The abstract class for a formal problem. A new domain subclasses this,\n",
    "    overriding `actions` and `results`, and perhaps other methods.\n",
    "    The default heuristic is 0 and the default action cost is 1 for all states.\n",
    "    When you create an instance of a subclass, specify `initial`, and `goal` states \n",
    "    (or give an `is_goal` method) and perhaps other keyword args for the subclass.\"\"\"\n",
    "\n",
    "    def __init__(self, initial=None, goal=None, **kwds): \n",
    "        self.__dict__.update(initial=initial, goal=goal, **kwds) \n",
    "        \n",
    "    def actions(self, state):        raise NotImplementedError\n",
    "    def result(self, state, action): raise NotImplementedError\n",
    "    def is_goal(self, state):        return state == self.goal\n",
    "    def action_cost(self, s, a, s1): return 1\n",
    "    def h(self, node):               return 0\n",
    "    \n",
    "    def __str__(self):\n",
    "        return '{}({!r}, {!r})'.format(\n",
    "            type(self).__name__, self.initial, self.goal)"
   ]
  },
  {
   "cell_type": "code",
   "execution_count": 3,
   "metadata": {
    "id": "F1qsU3yzJDXy"
   },
   "outputs": [],
   "source": [
    "# Use the following Node class to generate search tree\n",
    "import math\n",
    "class Node:\n",
    "    \"A Node in a search tree.\"\n",
    "    def __init__(self, state, parent=None, action=None, path_cost=0):\n",
    "        self.__dict__.update(state=state, parent=parent, action=action, path_cost=path_cost)\n",
    "\n",
    "    def __repr__(self): return '<{}>'.format(self.state)\n",
    "    def __len__(self): return 0 if self.parent is None else (1 + len(self.parent))\n",
    "    def __lt__(self, other): return self.path_cost < other.path_cost \n"
   ]
  },
  {
   "cell_type": "code",
   "execution_count": 4,
   "metadata": {},
   "outputs": [],
   "source": [
    "failure = Node('failure', path_cost=math.inf) # Indicates an algorithm couldn't find a solution.\n",
    "cutoff  = Node('cutoff',  path_cost=math.inf) # Indicates iterative deepening search was cut off.\n",
    "  \n",
    "def expand(problem, node):\n",
    "    \"Expand a node, generating the children nodes.\"\n",
    "    s = node.state\n",
    "    for action in problem.actions(s):\n",
    "        s1 = problem.result(s, action)\n",
    "        cost = node.path_cost + problem.action_cost(s, action, s1)\n",
    "        yield Node(s1, node, action, cost)\n",
    "        \n",
    "\n",
    "def path_actions(node):\n",
    "    \"The sequence of actions to get to this node.\"\n",
    "    if node.parent is None:\n",
    "        return []  \n",
    "    return path_actions(node.parent) + [node.action]\n",
    "\n",
    "\n",
    "def path_states(node):\n",
    "    \"The sequence of states to get to this node.\"\n",
    "    if node in (cutoff, failure, None): \n",
    "        return []\n",
    "    return path_states(node.parent) + [node.state]"
   ]
  },
  {
   "cell_type": "code",
   "execution_count": 5,
   "metadata": {},
   "outputs": [],
   "source": [
    "FIFOQueue = deque\n",
    "\n",
    "LIFOQueue = list\n",
    "\n",
    "class PriorityQueue:\n",
    "    \"\"\"A queue in which the item with minimum f(item) is always popped first.\"\"\"\n",
    "\n",
    "    def __init__(self, items=(), key=lambda x: x): \n",
    "        self.key = key\n",
    "        self.items = [] # a heap of (score, item) pairs\n",
    "        for item in items:\n",
    "            self.add(item)\n",
    "         \n",
    "    def add(self, item):\n",
    "        \"\"\"Add item to the queuez.\"\"\"\n",
    "        pair = (self.key(item), item)\n",
    "        heapq.heappush(self.items, pair)\n",
    "\n",
    "    def pop(self):\n",
    "        \"\"\"Pop and return the item with min f(item) value.\"\"\"\n",
    "        return heapq.heappop(self.items)[1]\n",
    "    \n",
    "    def top(self): return self.items[0][1]\n",
    "\n",
    "    def __len__(self): return len(self.items)"
   ]
  },
  {
   "cell_type": "markdown",
   "metadata": {},
   "source": [
    "## **Q1.a: Class Maze(Problem)** [5 Marks]\n",
    "\n",
    "Write a Maze class to create a model for this problem. You should not use an explicit state space model. The modelling should inherit the abstract class 'Problem' (given below). With the problem formulation, find the shortest path from S to G cell. Propose and implement multiple heuristics (at least two heuristics) for informed search algorithms."
   ]
  },
  {
   "cell_type": "code",
   "execution_count": 6,
   "metadata": {
    "id": "uvB_5QSvJDXz"
   },
   "outputs": [],
   "source": [
    "MAZE_ROWS = 16\n",
    "MAZE_COLUMNS = 24\n",
    "ACTIONS = {'UP', 'LEFT', 'RIGHT', 'DOWN'}\n",
    "    \n",
    "class Maze(Problem):\n",
    "    \n",
    "    shaded_cells = [(14,9), (13,10), (12,10), (11,10), (10,10), (10,9), (9,9), (8,9), (7,9), (6,9), (11,12), (11,13), (10,12), (10,13)]\n",
    "\n",
    "    def __init__(self, initial=None, goal=None):\n",
    "        Problem.__init__(self, initial=initial, goal=goal)\n",
    "\n",
    "    def h(self, node):\n",
    "        # This is the heuristics, currently implementing Euclidian distance\n",
    "        x1, y1 = node.state\n",
    "        x2, y2 = self.goal\n",
    "        return abs(x1 - x2) + abs(y1 - y2)\n",
    "\n",
    "    def action_cost(self, s,a,s1):\n",
    "        if a in {'LEFT', 'RIGHT'}:\n",
    "            return 10\n",
    "        elif a in {'UP', 'DOWN'}:\n",
    "            return 1\n",
    "\n",
    "    def result(self, state, action):\n",
    "        x, y = state\n",
    "        if action == 'UP' and x < MAZE_ROWS - 2:\n",
    "            x_new = x + 1\n",
    "        elif action == 'DOWN' and x > 0:\n",
    "            x_new = x - 1\n",
    "        else:\n",
    "            x_new = x\n",
    "\n",
    "        if action == 'LEFT' and y > 0:\n",
    "            y_new = y - 1\n",
    "        elif action == 'RIGHT' and y < MAZE_COLUMNS - 2:\n",
    "            y_new = y + 1\n",
    "        else:\n",
    "            y_new = y\n",
    "\n",
    "        if not self.is_shaded(x_new, y_new):\n",
    "            return (x_new, y_new)\n",
    "        else:\n",
    "            return (x, y)\n",
    "\n",
    "    def actions(self, state):\n",
    "        x, y = state\n",
    "        valid_actions = set()\n",
    "\n",
    "        if x < MAZE_ROWS - 2 and not self.is_shaded(x + 1, y):\n",
    "            valid_actions.add('UP')\n",
    "        if x > 0 and not self.is_shaded(x - 1, y):\n",
    "            valid_actions.add('DOWN')\n",
    "        if y < MAZE_COLUMNS - 2 and not self.is_shaded(x, y + 1):\n",
    "            valid_actions.add('RIGHT')\n",
    "        if y > 0 and not self.is_shaded(x, y - 1):\n",
    "            valid_actions.add('LEFT')\n",
    "\n",
    "        return valid_actions\n",
    "\n",
    "    def is_shaded(self, x, y):\n",
    "        return (x, y) in self.shaded_cells\n",
    "    \n",
    "    def goal_test(self, state):\n",
    "        return state == self.goal"
   ]
  },
  {
   "cell_type": "markdown",
   "metadata": {},
   "source": [
    "### Testing the model"
   ]
  },
  {
   "cell_type": "code",
   "execution_count": 7,
   "metadata": {},
   "outputs": [],
   "source": [
    "#Testing Maze class\n",
    "#Note that we perform additional tests to validate the modeling\n",
    "\n",
    "#An instance of Maze problem; initializa the Maze class with appropriate values\n",
    "m1 = Maze(initial = None, goal = None)\n",
    "\n",
    "# Testing the methods in Maze class\n",
    "assert m1.result((4,12),'UP') == (5,12)\n",
    "assert m1.action_cost((4,12),'UP',(5,12)) == 1\n",
    "assert m1.actions((4,12)) == {'UP', 'LEFT', 'RIGHT', 'DOWN'}"
   ]
  },
  {
   "cell_type": "markdown",
   "metadata": {},
   "source": [
    "## **Q1.b: Analysis of the Algorithms** [5 Marks]\n",
    "\n",
    "1. Solve the above Maze problem using the following algorithms\n",
    "\n",
    "    a. Breadth-First Search\n",
    "\n",
    "    b. Depth-First Search with Cycle-Check\n",
    "\n",
    "    c. Iterative-Deepening Search with Cycle-Check\n",
    "\n",
    "    d. Uniform-Cost Search\n",
    "\n",
    "    e. A* Search \n",
    "\n",
    "    f. Greedy Best-first Search"
   ]
  },
  {
   "cell_type": "code",
   "execution_count": 8,
   "metadata": {},
   "outputs": [],
   "source": [
    "#Your code for breadth-first search\n",
    "\n",
    "#Keep track of the blocks of maze\n",
    "class Block_Position:\n",
    "    \n",
    "    def __init__(self, x, y):\n",
    "        self.x = x\n",
    "        self.y = y\n",
    "        \n",
    "def solveMaze_bfs(maze, goal, start):\n",
    "    \n",
    "    #Set move direction for DOWN and UP\n",
    "    adj_cell_x = [-1, 0, 0, 1]\n",
    "    \n",
    "    #Set move directions for lEFT and RIGHT\n",
    "    adj_cell_y = [0, -1, 1, 0]\n",
    "    \n",
    "    #Maintain visited nodes\n",
    "    visited_blocks = [[False for i in range(MAZE_COLUMNS)] for j in range(MAZE_ROWS)]\n",
    "    visited_blocks[start.x][start.y] = True\n",
    "    \n",
    "    #Set the starting point\n",
    "    current_block = Node(maze.initial)\n",
    "    \n",
    "    if maze.goal_test(current_block.state):\n",
    "        return current_block\n",
    "    \n",
    "    frontier = deque([node])\n",
    "    explored = set()\n",
    "    \n",
    "    action_cost = 0\n",
    "    cells = 4\n",
    "    \n",
    "    while frontier:\n",
    "        current_block = frontier.popleft()  # Dequeue the front cell\n",
    "        current_pos = current_block.pos\n",
    "        \n",
    "        explored.add(current_block.state)\n",
    "        \n",
    "        #Check for goal state\n",
    "        if current_pos.x == goal.x and current_pos.y == goal.y:\n",
    "            print(\"Algorithm used = BFS\")\n",
    "            print(\"Path found!\")\n",
    "            return current_block.path_cost\n",
    "             \n",
    "        if current_block not in visited_blocks:\n",
    "            visited_blocks[current_pos.x][current_pos.y] = True\n",
    "            \n",
    "        x_pos = current_pos.x\n",
    "        y_pos = current_pos.y\n",
    "        \n",
    "        for i in range(cells):\n",
    "            #Check for top boundary (wall)\n",
    "            if x_pos == MAZE_ROWS - 1 and adj_cell_x[i] == 1:\n",
    "                x_pos = current_pos.x\n",
    "                y_pos = current_pos.y + adj_cell_y[i]\n",
    "            \n",
    "            #Check for bottopn boundary (wall)\n",
    "            if x_pos == 0 and adj_cell_x[i] == -1:\n",
    "                x_pos = current_pos.x\n",
    "                y_pos = current_pos.y + adj_cell_y[i]\n",
    "            \n",
    "            #Check for right boundary (wall)\n",
    "            if y_pos == MAZE_COLUMNS - 1 and adj_cell_y[i] == 1:\n",
    "                x_pos = current_pos.x + adj_cell_x[i]\n",
    "                y_pos = current_pos.y\n",
    "                \n",
    "            #Check for left boundary (wall)\n",
    "            if y_pos == 0 and adj_cell_y[i] == -1:\n",
    "                x_pos = current_pos.x + adj_cell_x[i]\n",
    "                y_pos = current_pos.y\n",
    "            \n",
    "            else:\n",
    "                x_pos = current_pos.x + adj_cell_x[i]\n",
    "                y_pos = current_pos.y + adj_cell_y[i]\n",
    "            \n",
    "            for child in current_block.expand(maze):\n",
    "                \n",
    "                if x_pos < MAZE_COLUMNS and y_pos < MAZE_ROWS and x_pos >= 0 and y_pos >= 0:\n",
    "                    \n",
    "                    #Check if next cell is empty cell\n",
    "                    if maze[x_pos][y_pos] == 1:\n",
    "\n",
    "                        if child.state not in explored and child not in frontier:\n",
    "                            if maze.goal_test(child.state):\n",
    "                                return child\n",
    "                        \n",
    "                            #Add action cost to move DOWN OR UP\n",
    "                            if adj_cell_x[i] == -1 or 1:\n",
    "                                action_cost = 1\n",
    "\n",
    "                            #Add action cost to move LEFT OR RIGHT\n",
    "                            if adj_cell_y[i] == -1 or 1: \n",
    "                                 action_cost = 10\n",
    "\n",
    "                            child = Node(Block_Position(x_pos, y_pos), current_block.action_cost + action_cost)\n",
    "                            \n",
    "                            visited_blocks [x_pos][y_pos] = True\n",
    "                            \n",
    "                            frontier.append(child)\n",
    "    return None\n",
    "     "
   ]
  },
  {
   "cell_type": "code",
   "execution_count": 9,
   "metadata": {},
   "outputs": [
    {
     "name": "stdout",
     "output_type": "stream",
     "text": [
      "Solution path: ['DOWN', 'DOWN', 'DOWN', 'DOWN', 'DOWN', 'DOWN', 'DOWN', 'DOWN', 'LEFT', 'LEFT', 'LEFT', 'LEFT', 'LEFT', 'LEFT', 'LEFT', 'LEFT', 'LEFT', 'LEFT', 'UP', 'UP', 'RIGHT', 'RIGHT', 'RIGHT', 'RIGHT', 'RIGHT', 'RIGHT', 'RIGHT', 'RIGHT', 'UP', 'UP', 'LEFT', 'LEFT', 'LEFT', 'LEFT', 'LEFT', 'LEFT', 'LEFT', 'LEFT', 'UP', 'UP', 'RIGHT', 'RIGHT', 'RIGHT', 'RIGHT', 'RIGHT', 'RIGHT', 'RIGHT', 'RIGHT', 'UP', 'UP', 'LEFT', 'LEFT', 'LEFT', 'LEFT', 'LEFT', 'LEFT', 'LEFT', 'LEFT', 'UP', 'UP', 'RIGHT', 'RIGHT', 'RIGHT', 'RIGHT', 'RIGHT', 'RIGHT', 'RIGHT', 'RIGHT', 'UP', 'RIGHT']\n",
      "Expanded nodes: 240\n",
      "Maximum frontier size: 85\n",
      "Path cost: 529\n"
     ]
    }
   ],
   "source": [
    "from collections import deque\n",
    "\n",
    "def depth_first_search(problem):\n",
    "    frontier = deque()\n",
    "    initial_node = Node(problem.initial)\n",
    "    frontier.append(initial_node)\n",
    "\n",
    "    explored = set()\n",
    "\n",
    "    expanded_nodes = 0\n",
    "    max_frontier_size = 0\n",
    "\n",
    "    while frontier:\n",
    "        max_frontier_size = max(max_frontier_size, len(frontier))\n",
    "        node = frontier.pop()\n",
    "        expanded_nodes += 1\n",
    "        explored.add(node.state)\n",
    "\n",
    "        if problem.goal_test(node.state):\n",
    "            return node, expanded_nodes, max_frontier_size\n",
    "\n",
    "        for action in problem.actions(node.state):\n",
    "            child_state = problem.result(node.state, action)\n",
    "\n",
    "            if child_state not in explored and not any(node.state == child_state for node in frontier):\n",
    "                child_node = Node(child_state, node, action)\n",
    "                frontier.append(child_node)\n",
    "\n",
    "    return None, expanded_nodes, max_frontier_size \n",
    "\n",
    "start_state = (8, 10)\n",
    "goal_state = (11, 9)\n",
    "\n",
    "maze_problem = Maze(initial=start_state, goal=goal_state)\n",
    "solution_node, expanded_nodes, max_frontier_size = depth_first_search(maze_problem)\n",
    "\n",
    "if solution_node:\n",
    "    path = []\n",
    "    path_cost = 0\n",
    "    while solution_node.parent is not None:\n",
    "        path.insert(0, solution_node.action)\n",
    "        path_cost += maze_problem.action_cost(s=solution_node.parent.state,a = solution_node.action,\n",
    "                                             s1=solution_node.state)\n",
    "        solution_node = solution_node.parent\n",
    "    print(\"Solution path:\", path)\n",
    "    print(\"Expanded nodes:\", expanded_nodes)\n",
    "    print(\"Maximum frontier size:\", max_frontier_size)\n",
    "    print(\"Path cost:\", path_cost)\n",
    "else:\n",
    "    print(\"No solution found\")"
   ]
  },
  {
   "cell_type": "code",
   "execution_count": 10,
   "metadata": {},
   "outputs": [],
   "source": [
    "#Your code for  iterative Deepening search with cycle-check"
   ]
  },
  {
   "cell_type": "code",
   "execution_count": 72,
   "metadata": {},
   "outputs": [],
   "source": [
    "def memoize(fn, slot=None):\n",
    "    \"\"\"Memoization decorator for a function with a single argument.\"\"\"\n",
    "    if slot is None:\n",
    "        slot = fn.__name__\n",
    "\n",
    "    def decorator(self, *args, **kwargs):\n",
    "        if hasattr(self, slot):\n",
    "            return getattr(self, slot)\n",
    "        else:\n",
    "            result = fn(self, *args, **kwargs)\n",
    "            setattr(self, slot, result)\n",
    "            return result\n",
    "\n",
    "    return decorator\n"
   ]
  },
  {
   "cell_type": "code",
   "execution_count": 73,
   "metadata": {},
   "outputs": [],
   "source": [
    "# sample code for best first graph seach\n",
    "\n",
    "def best_first_graph_search(problem,heuristic, display=False):\n",
    "    \"\"\"Search the nodes with the lowest f scores first.\n",
    "    You specify the function f(node) that you want to minimize; for example,\n",
    "    if f is a heuristic estimate to the goal, then we have greedy best\n",
    "    first search; if f is node.depth then we have breadth-first search.\n",
    "    There is a subtlety: the line \"f = memoize(f, 'f')\" means that the f\n",
    "    values will be cached on the nodes as they are computed. So after doing\n",
    "    a best first search you can examine the f values of the path returned.\"\"\"\n",
    "    frontier = PriorityQueue()\n",
    "    \n",
    "    f = memoize(heuristic, 'f')\n",
    "    \n",
    "    initial_node = Node(problem.initial)\n",
    "    \n",
    "    frontier.add(initial_node)\n",
    "    \n",
    "    # Define the heuristic function f to use the h function from the Maze class\n",
    "    #f = lambda node: problem.h(node)\n",
    "    \n",
    "    explored = set()\n",
    "    \n",
    "    expanded_nodes = 0\n",
    "    max_frontier_size = 0\n",
    "    \n",
    "    \n",
    "    while frontier:\n",
    "        max_frontier_size = max(max_frontier_size, len(frontier))\n",
    "        node = frontier.pop()\n",
    "        expanded_nodes += 1\n",
    "        explored.add(node.state)\n",
    "        \n",
    "        if problem.goal_test(node.state):\n",
    "            if display:\n",
    "                print(len(explored), \"paths have been expanded and\", len(frontier), \"paths remain in the frontier\")\n",
    "            return node, expanded_nodes, max_frontier_size\n",
    "        explored.add(node.state)\n",
    "        \n",
    "        \n",
    "        for action in problem.actions(node.state):\n",
    "            child_state = problem.result(node.state, action)\n",
    "            if child_state not in explored and not frontier.contains_state(child_state):\n",
    "                child_node = Node(child_state, node, action)\n",
    "                f_value = f(child_node)  # Calculate the f value using the heuristic\n",
    "                frontier.add(child_node)\n",
    "\n",
    "    return None  # No solution found"
   ]
  },
  {
   "cell_type": "code",
   "execution_count": 83,
   "metadata": {},
   "outputs": [
    {
     "name": "stdout",
     "output_type": "stream",
     "text": [
      "Solution path: ['DOWN', 'DOWN', 'DOWN', 'DOWN', 'DOWN', 'DOWN', 'RIGHT', 'DOWN', 'LEFT', 'LEFT', 'LEFT', 'LEFT', 'UP', 'RIGHT', 'RIGHT', 'UP', 'LEFT', 'LEFT', 'LEFT', 'DOWN', 'LEFT', 'LEFT', 'LEFT', 'UP', 'RIGHT', 'RIGHT', 'UP', 'RIGHT', 'RIGHT', 'RIGHT', 'RIGHT', 'UP', 'LEFT', 'LEFT', 'LEFT', 'UP', 'RIGHT', 'RIGHT', 'UP', 'LEFT', 'LEFT', 'LEFT', 'DOWN', 'LEFT', 'LEFT', 'DOWN', 'LEFT', 'LEFT', 'LEFT', 'UP', 'RIGHT', 'RIGHT', 'UP', 'LEFT', 'LEFT', 'UP', 'UP', 'RIGHT', 'RIGHT', 'RIGHT', 'UP', 'RIGHT', 'RIGHT', 'RIGHT', 'RIGHT', 'RIGHT', 'UP', 'RIGHT']\n",
      "Expanded nodes: 1969\n",
      "Maximum frontier size: 629\n",
      "Path cost: 473\n"
     ]
    }
   ],
   "source": [
    "start_state = (8, 10)\n",
    "goal_state = (11, 9)\n",
    "\n",
    "maze_problem = Maze(initial=start_state, goal=goal_state)\n",
    "\n",
    "# Perform the search with the heuristic\n",
    "solution_node, expanded_nodes, max_frontier_size = best_first_graph_search(maze_problem,lambda node: maze_problem.h(node))  # Remove expanded_nodes and max_frontier_size\n",
    "\n",
    "if solution_node:\n",
    "    path = []\n",
    "    path_cost = 0\n",
    "    while solution_node.parent is not None:\n",
    "        path.insert(0, solution_node.action)\n",
    "        path_cost += maze_problem.action_cost(s=solution_node.parent.state,\n",
    "                                              a = solution_node.action,\n",
    "                                             s1=solution_node.state)\n",
    "        solution_node = solution_node.parent\n",
    "    print(\"Solution path:\", path)\n",
    "    print(\"Expanded nodes:\", expanded_nodes)\n",
    "    print(\"Maximum frontier size:\", max_frontier_size)\n",
    "    print(\"Path cost:\", path_cost)\n",
    "else:\n",
    "    print(\"No solution found\")\n",
    "\n"
   ]
  },
  {
   "cell_type": "code",
   "execution_count": 84,
   "metadata": {},
   "outputs": [],
   "source": [
    "def uniform_cost_search(problem, display=False):\n",
    "    \"\"\"[Figure 3.14]\"\"\"\n",
    "    return best_first_graph_search(problem, lambda node: node.path_cost, display)\n",
    "\n"
   ]
  },
  {
   "cell_type": "code",
   "execution_count": 85,
   "metadata": {
    "scrolled": true
   },
   "outputs": [
    {
     "name": "stdout",
     "output_type": "stream",
     "text": [
      "Solution path: ['DOWN', 'DOWN', 'DOWN', 'DOWN', 'DOWN', 'DOWN', 'RIGHT', 'DOWN', 'LEFT', 'LEFT', 'LEFT', 'LEFT', 'UP', 'RIGHT', 'RIGHT', 'UP', 'LEFT', 'LEFT', 'LEFT', 'DOWN', 'LEFT', 'LEFT', 'LEFT', 'UP', 'RIGHT', 'RIGHT', 'UP', 'RIGHT', 'RIGHT', 'RIGHT', 'RIGHT', 'UP', 'LEFT', 'LEFT', 'LEFT', 'UP', 'RIGHT', 'RIGHT', 'UP', 'LEFT', 'LEFT', 'LEFT', 'DOWN', 'LEFT', 'LEFT', 'DOWN', 'LEFT', 'LEFT', 'LEFT', 'UP', 'RIGHT', 'RIGHT', 'UP', 'LEFT', 'LEFT', 'UP', 'UP', 'RIGHT', 'RIGHT', 'RIGHT', 'UP', 'RIGHT', 'RIGHT', 'RIGHT', 'RIGHT', 'RIGHT', 'UP', 'RIGHT']\n",
      "Expanded nodes: 1969\n",
      "Maximum frontier size: 629\n",
      "Path cost: 473\n"
     ]
    }
   ],
   "source": [
    "solution_node, expanded_nodes, max_frontier_size = uniform_cost_search(maze_problem)\n",
    "\n",
    "if solution_node:\n",
    "    path = []\n",
    "    path_cost = 0\n",
    "    while solution_node.parent is not None:\n",
    "        path.insert(0, solution_node.action)\n",
    "        path_cost += maze_problem.action_cost(s=solution_node.parent.state,a = solution_node.action,\n",
    "                                             s1=solution_node.state)\n",
    "        solution_node = solution_node.parent\n",
    "    print(\"Solution path:\", path)\n",
    "    print(\"Expanded nodes:\", expanded_nodes)\n",
    "    print(\"Maximum frontier size:\", max_frontier_size)\n",
    "    print(\"Path cost:\", path_cost)\n",
    "else:\n",
    "    print(\"No solution found\")"
   ]
  },
  {
   "cell_type": "code",
   "execution_count": 86,
   "metadata": {},
   "outputs": [],
   "source": [
    "def astar_search(problem, h=None, display=False):\n",
    "    \"\"\"A* search is best-first graph search with f(n) = g(n)+h(n).\n",
    "    You need to specify the h function when you call astar_search, or\n",
    "    else in your Problem subclass.\"\"\"\n",
    "    h = memoize(h or problem.h, 'h')\n",
    "    return best_first_graph_search(problem, lambda n: n.path_cost + h(n), display)"
   ]
  },
  {
   "cell_type": "code",
   "execution_count": 87,
   "metadata": {},
   "outputs": [
    {
     "name": "stdout",
     "output_type": "stream",
     "text": [
      "Solution path: ['DOWN', 'DOWN', 'DOWN', 'DOWN', 'DOWN', 'DOWN', 'RIGHT', 'DOWN', 'LEFT', 'LEFT', 'LEFT', 'LEFT', 'UP', 'RIGHT', 'RIGHT', 'UP', 'LEFT', 'LEFT', 'LEFT', 'DOWN', 'LEFT', 'LEFT', 'LEFT', 'UP', 'RIGHT', 'RIGHT', 'UP', 'RIGHT', 'RIGHT', 'RIGHT', 'RIGHT', 'UP', 'LEFT', 'LEFT', 'LEFT', 'UP', 'RIGHT', 'RIGHT', 'UP', 'LEFT', 'LEFT', 'LEFT', 'DOWN', 'LEFT', 'LEFT', 'DOWN', 'LEFT', 'LEFT', 'LEFT', 'UP', 'RIGHT', 'RIGHT', 'UP', 'LEFT', 'LEFT', 'UP', 'UP', 'RIGHT', 'RIGHT', 'RIGHT', 'UP', 'RIGHT', 'RIGHT', 'RIGHT', 'RIGHT', 'RIGHT', 'UP', 'RIGHT']\n",
      "Expanded nodes: 1969\n",
      "Maximum frontier size: 629\n",
      "Path cost: 473\n"
     ]
    }
   ],
   "source": [
    "solution_node, expanded_nodes, max_frontier_size = astar_search(maze_problem)\n",
    "\n",
    "if solution_node:\n",
    "    path = []\n",
    "    path_cost = 0\n",
    "    while solution_node.parent is not None:\n",
    "        path.insert(0, solution_node.action)\n",
    "        path_cost += maze_problem.action_cost(s=solution_node.parent.state,a = solution_node.action,\n",
    "                                             s1=solution_node.state)\n",
    "        solution_node = solution_node.parent\n",
    "    print(\"Solution path:\", path)\n",
    "    print(\"Expanded nodes:\", expanded_nodes)\n",
    "    print(\"Maximum frontier size:\", max_frontier_size)\n",
    "    print(\"Path cost:\", path_cost)\n",
    "else:\n",
    "    print(\"No solution found\")"
   ]
  },
  {
   "cell_type": "code",
   "execution_count": 66,
   "metadata": {},
   "outputs": [],
   "source": [
    "#Your code for greedy-best first search\n",
    "\n",
    "greedy_best_first_graph_search = best_first_graph_search\n",
    "\n",
    "\n",
    "# Greedy best-first search is accomplished by specifying f(n) = h(n)."
   ]
  },
  {
   "cell_type": "markdown",
   "metadata": {},
   "source": [
    "2. Identify the number of number of expanded nodes, maximum frontier size, and path-cost for the above algorithms.  Summarize the statistics in the following table."
   ]
  },
  {
   "cell_type": "markdown",
   "metadata": {},
   "source": [
    "\n",
    " Algorithm             |Number of expanded nodes  | Maximum Frontier Size  |  Path Cost                  |\n",
    "|:---------------------|:-------------------------|:-----------------------|:----------\n",
    "| Breadth-First Search |                          |                        |\n",
    "| DFS with cycle check |                          |                        |\n",
    "| IDS with cycle check |                          |                        |\n",
    "| UCS                  |                          |                        |\n",
    "| A* Search            |                          |                        |\n",
    "| GBFS                 |                          |                        |"
   ]
  },
  {
   "cell_type": "markdown",
   "metadata": {},
   "source": [
    "3. Compare the performance of informed search algorithms with proposed heuristics. Identify the best performing heuristic and explain.\n",
    "\n"
   ]
  }
 ],
 "metadata": {
  "colab": {
   "provenance": []
  },
  "kernelspec": {
   "display_name": "Python 3 (ipykernel)",
   "language": "python",
   "name": "python3"
  },
  "language_info": {
   "codemirror_mode": {
    "name": "ipython",
    "version": 3
   },
   "file_extension": ".py",
   "mimetype": "text/x-python",
   "name": "python",
   "nbconvert_exporter": "python",
   "pygments_lexer": "ipython3",
   "version": "3.9.13"
  },
  "vscode": {
   "interpreter": {
    "hash": "85c6d5c81e07e5df96d46470b5f31cdc60bf99937c21eb8030f5ac9c2291ee2f"
   }
  }
 },
 "nbformat": 4,
 "nbformat_minor": 1
}
